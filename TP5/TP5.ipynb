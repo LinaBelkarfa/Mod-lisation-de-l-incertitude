{
 "cells": [
  {
   "cell_type": "markdown",
   "metadata": {},
   "source": [
    "# Modélisation de l’incertitude — Master 2 MIAGE IA2\n",
    "## Travaux dirigés N◦5 : Théorie de l’évidence\n",
    "\n",
    "On va utiliser la théorie de l’évidence pour résoudre un problème de combinaison d’évidence de sources différentes. Pour ce faire, on s’appuyera sur la bibliothèque Python pyds de Thomas Reineking.\n",
    "\n",
    "# 1. Introduction\n",
    "La bibliothèque Python pyds de Thomas Reineking peut être téléchargée à partir de la page http://reineking.github.io/pyds/. Regardez le fichier examples.py pour comprendre le fonctionnement de la bibliothèque.\n",
    "\n",
    "# 2 Le mystère du vol MH370\n",
    "Le 8 mars 2014, le Boeing 777 du vol Malaysia Airlines 370 (MH370) est porté disparu avec 239 personnes à son bord. L’appareil, qui devait relier Kuala Lumpur à Pékin, après avoir disparu des radars vietnamiens, aurait continué à voler pendant des heures, avant de s’abîmer en mer. Malgré d’intenses recherches, le lieu de sa disparition n’a pas pu être déterminé. Seuls quelques débris pouvant avoir appartenu à l’avion ont été retrouvés, plus d’un an après, sur le littoral africain. Il s’agit, à ce jour, du plus grand mystère de l’histoire de l’aviation civile. Rolls Royce, le constructeur des moteurs de l’avions, aurait reçu des communications ACARS toutes les trente minutes pendant cinq heures après la perte de contact avec l’avion. Sur la base de ces signaux, on a pu estimer que la position de l’appareil devait être située sur la circonférence d’un cercle correspondant à une inclinaison de 30◦par rapport à la verticale de la position du satellite qui les captait.\n",
    "Enfin, quelques habitants des Maldives auraient rapporté d’avoir vu l’avion, en train de voler à basse altitude, mais ce témoignage est considéré peu fiable.\n",
    "\n",
    "# 3. Consignes\n",
    "On se propose d’utiliser la théorie de l’évidence pour aider les recherches de l’épave du vol MH370. On simplifiera le problème en divisant la zone des recherches, qui correspond en gros à l’Océan Indien, en neuf secteurs, suivant le cadrillage montré dans la Figure 1."
   ]
  },
  {
   "cell_type": "code",
   "execution_count": 1,
   "metadata": {},
   "outputs": [],
   "source": [
    "from __future__ import print_function\n",
    "from pyds import MassFunction\n",
    "from itertools import product"
   ]
  },
  {
   "cell_type": "markdown",
   "metadata": {},
   "source": [
    "### 1. \n",
    "* Le dernier message ACARS suggère que l’avion pouvait être, peu avant de s’abîmer en mer, dans les secteurs :\n",
    "* NW, N, E, ou SE avec une masse de probabilité de 50%, \n",
    "* dans C ou NE avec une masse de 30%, \n",
    "* ou dans l’un des secteurs restants avec une masse de 20%. \n",
    "\n",
    "Quadrillage de la zone de recherche :\n",
    "\n",
    "\n",
    "\n",
    "|        |         |        |\n",
    "| :----: | :-----: | :----: |\n",
    "| NW     | N       | NE     |\n",
    "| W      | C       | E      |\n",
    "| SW     | S       | SE     |\n",
    "\n"
   ]
  },
  {
   "cell_type": "code",
   "execution_count": 8,
   "metadata": {},
   "outputs": [
    {
     "data": {
      "text/plain": [
       "array([['NW', 'N', 'NE'],\n",
       "       ['W', 'C', 'E'],\n",
       "       ['SW', 'S', 'SE']], dtype='<U2')"
      ]
     },
     "execution_count": 8,
     "metadata": {},
     "output_type": "execute_result"
    }
   ],
   "source": [
    "import numpy as np\n",
    "map_fly = np.array([['NW','N','NE'],\n",
    "                    ['W','C','E'],\n",
    "                    ['SW','S','SE']\n",
    "                    ])\n",
    "map_fly"
   ]
  },
  {
   "cell_type": "code",
   "execution_count": 9,
   "metadata": {},
   "outputs": [
    {
     "name": "stdout",
     "output_type": "stream",
     "text": [
      "=== creating mass functions ===\n",
      "m_1 = {{'SE', 'NW', 'N', 'E'}:0.5; {'C', 'NE'}:0.3; {'SW', 'S', 'W'}:0.2}\n"
     ]
    }
   ],
   "source": [
    "print('=== creating mass functions ===')\n",
    "m1 = MassFunction([({'NW', 'N', 'E','SE'}, 0.5), ({'C', 'NE'}, 0.3), ({'W','SW','S'}, 0.2)]) # using a list of tuples\n",
    "print('m_1 =', m1)"
   ]
  },
  {
   "cell_type": "markdown",
   "metadata": {},
   "source": [
    "2. Le retrouvement de débris sur le littoral africain est une évidence qui pointe au secteur SW (50%) ; cependant, on sait qu’il y a des courants qui vont de l’est à l’ouest dans cette partie de l’océan, donc il se porrait que les débris aient été transporté jusqu’aux côtes africaines des secteurs C ou S (30%) ou E ou SE (20%)."
   ]
  },
  {
   "cell_type": "code",
   "execution_count": 10,
   "metadata": {},
   "outputs": [
    {
     "name": "stdout",
     "output_type": "stream",
     "text": [
      "m_2 = {{'SW'}:0.5; {'C', 'S'}:0.3; {'SE', 'E'}:0.2}\n"
     ]
    }
   ],
   "source": [
    "m2 = MassFunction([({'SW'}, 0.5), ({'C', 'S'}, 0.3), ({'E','SE'}, 0.2)]) # using a list of tuples\n",
    "print('m_2 =', m2)"
   ]
  },
  {
   "cell_type": "markdown",
   "metadata": {},
   "source": [
    "3. Enfin, l’observation douteuse de l’appareil volant à basse altitude aux Maldives est estimée apporter une masse de 10% à une localisation de l’épave dans le secteur W et une masse de 90% partout (y compris le secteur W)."
   ]
  },
  {
   "cell_type": "code",
   "execution_count": 11,
   "metadata": {},
   "outputs": [
    {
     "name": "stdout",
     "output_type": "stream",
     "text": [
      "m_3 = {{'SE', 'C', 'W', 'S', 'NW', 'NE', 'N', 'E', 'SW'}:0.9; {'W'}:0.1}\n"
     ]
    }
   ],
   "source": [
    "m3 = MassFunction([({'W'}, 0.1), ({'NW','N','NE','W','C','E','SW','S','SE'}, 0.9)]) # using a list of tuples\n",
    "print('m_3 =', m3)"
   ]
  },
  {
   "cell_type": "markdown",
   "metadata": {},
   "source": [
    "4. Dans quel secteur faudrait-il concentrer les recherches ? Suggestion : il faudra d’abord combiner les différentes sources d’évidence, puis calculer les probabilités pignistiques."
   ]
  },
  {
   "cell_type": "code",
   "execution_count": 12,
   "metadata": {},
   "outputs": [
    {
     "name": "stdout",
     "output_type": "stream",
     "text": [
      "{{'SE', 'E'}:0.2857142857142857; {'SW'}:0.2857142857142857; {'C'}:0.2571428571428571; {'S'}:0.17142857142857143}\n"
     ]
    }
   ],
   "source": [
    "m4 = m1 & m2 & m3\n",
    "print(m4)"
   ]
  },
  {
   "cell_type": "markdown",
   "metadata": {},
   "source": [
    "\n",
    "5. En quelle mesure ces conclusions sont sensibles aux hypothèses de distribution des trois masses ? Est-ce que des petites erreurs d’estimation de ces masses (on va dire comprises dans le 5% en plus ou en moins) pourraient faire changer drastiquement le résultat ?\n"
   ]
  }
 ],
 "metadata": {
  "interpreter": {
   "hash": "636cdaddf8278713ac0f8899dff8f68cf32cd8ae3d3514f61665594349bacd03"
  },
  "kernelspec": {
   "display_name": "Python 3.8.5 ('base')",
   "language": "python",
   "name": "python3"
  },
  "language_info": {
   "codemirror_mode": {
    "name": "ipython",
    "version": 3
   },
   "file_extension": ".py",
   "mimetype": "text/x-python",
   "name": "python",
   "nbconvert_exporter": "python",
   "pygments_lexer": "ipython3",
   "version": "3.8.5"
  },
  "orig_nbformat": 4
 },
 "nbformat": 4,
 "nbformat_minor": 2
}
