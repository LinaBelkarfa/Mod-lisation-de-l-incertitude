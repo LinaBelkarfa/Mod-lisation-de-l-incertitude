{
 "cells": [
  {
   "cell_type": "markdown",
   "metadata": {},
   "source": [
    "# TP4 : Modèle de Markov cachés\n",
    "\n",
    "* Nous allons construire un modèle de Markov caché (dorenavant MMC) de séries historiques financières. Pour cela, vous allez récupérer les séries des rendements journaliers discrétisés en\n",
    "{−1, 0, +1} obtenues lors du TD n◦1"
   ]
  },
  {
   "cell_type": "code",
   "execution_count": 12,
   "metadata": {},
   "outputs": [
    {
     "name": "stdout",
     "output_type": "stream",
     "text": [
      "   Jour        Close\n",
      "0     1  5590.790039\n",
      "1     2  5559.569824\n",
      "2     3  5472.359863\n",
      "   Jour         Close\n",
      "0     1  13906.669922\n",
      "1     2  13873.969727\n",
      "2     3  13643.950195\n",
      "   Jour    Close\n",
      "0     1  6715.42\n",
      "1     2  6695.07\n",
      "2     3  6638.85\n",
      "   Jour     Close\n",
      "0     1  31176.01\n",
      "1     2  30996.98\n",
      "2     3  30960.00\n",
      "   Jour         Close\n",
      "0     1  13530.910156\n",
      "1     2  13543.059570\n",
      "2     3  13635.990234\n"
     ]
    }
   ],
   "source": [
    "import pandas as pd\n",
    "\n",
    "CAC40 = pd.read_csv('CAC40.csv')\n",
    "CAC40 = CAC40.loc[:,['Close']]\n",
    "CAC40.insert(0,'Jour',[i for i in range(1, len(CAC40)+1)])\n",
    "print(CAC40.head(3))\n",
    "\n",
    "DAX = pd.read_csv('DAX30.csv')\n",
    "DAX = DAX.loc[:,['Close']]\n",
    "DAX.insert(0,'Jour',[i for i in range(1, len(DAX)+1)])\n",
    "print(DAX.head(3))\n",
    "\n",
    "FTSE = pd.read_csv('FTSE.csv', sep=\";\")\n",
    "print(FTSE.head(3))\n",
    "\n",
    "DJI = pd.read_csv('DJI.csv', sep=\";\")\n",
    "print(DJI.head(3))\n",
    "\n",
    "IXIC = pd.read_csv('NASDAQ.csv')\n",
    "IXIC = IXIC.loc[:,['Close']]\n",
    "IXIC.insert(0,'Jour',[i for i in range(1, len(IXIC)+1)])\n",
    "\n",
    "print(IXIC.head(3))\n",
    "\n",
    "\n",
    "import numpy as np\n",
    "\n",
    "def score_function(DATAFRAME):\n",
    "    score = [0]\n",
    "    for i in range(1,len(DATAFRAME)):\n",
    "        taux = np.log(DATAFRAME['Close'][i]/DATAFRAME['Close'][i-1])\n",
    "        if taux > 0.005:\n",
    "            score.append(1)\n",
    "        if taux <= 0.005 and taux >=-0.005 :\n",
    "            score.append(0)\n",
    "        if taux < -0.005:\n",
    "            score.append(-1)\n",
    "    DATAFRAME.insert(2,'Score', score)\n"
   ]
  },
  {
   "cell_type": "code",
   "execution_count": 13,
   "metadata": {},
   "outputs": [
    {
     "name": "stdout",
     "output_type": "stream",
     "text": [
      "---- DAX ----- \n",
      "    Jour         Close  Score\n",
      "0     1  13906.669922      0\n",
      "1     2  13873.969727      0\n",
      "2     3  13643.950195     -1\n",
      "---- CAC40 ----- \n",
      "    Jour        Close  Score\n",
      "0     1  5590.790039      0\n",
      "1     2  5559.569824     -1\n",
      "2     3  5472.359863     -1\n",
      "---- IXIC ----- \n",
      "    Jour         Close  Score\n",
      "0     1  13530.910156      0\n",
      "1     2  13543.059570      0\n",
      "2     3  13635.990234      1\n",
      "---- DJI ----- \n",
      "    Jour     Close  Score\n",
      "0     1  31176.01      0\n",
      "1     2  30996.98     -1\n",
      "2     3  30960.00      0\n",
      "---- FTSE ----- \n",
      "    Jour    Close  Score\n",
      "0     1  6715.42      0\n",
      "1     2  6695.07      0\n",
      "2     3  6638.85     -1\n"
     ]
    }
   ],
   "source": [
    "score_function(DAX)\n",
    "score_function(CAC40)\n",
    "score_function(IXIC)\n",
    "score_function(DJI)\n",
    "score_function(FTSE)\n",
    "\n",
    "print( \"---- DAX ----- \\n\",DAX.head(3))\n",
    "print(\"---- CAC40 ----- \\n\",CAC40.head(3))\n",
    "print(\"---- IXIC ----- \\n\",IXIC.head(3))\n",
    "print(\"---- DJI ----- \\n\",DJI.head(3))\n",
    "print(\"---- FTSE ----- \\n\",FTSE.head(3))"
   ]
  },
  {
   "cell_type": "markdown",
   "metadata": {},
   "source": [
    "## 1. Construisez avec Pomegranate le MMC décrit ci-dessus. \n",
    "* Pour commencer, vous mettrez des probabilités arbitraires. \n",
    "Attention : pour quelque raison mistérieuse, Pomegranate ajoute toujours un état initial start et un état final end même si vous dites expressément au constructeur de la classe HiddenMarkovModel que vous ne les voulez pas. Il suffit alors d’ajouter une transition de probabilité 1/2 de start à bullish ainsi que de start à bearish"
   ]
  },
  {
   "cell_type": "code",
   "execution_count": 14,
   "metadata": {},
   "outputs": [],
   "source": [
    "from pomegranate import *\n",
    "from pomegranate import HiddenMarkovModel"
   ]
  },
  {
   "cell_type": "markdown",
   "metadata": {},
   "source": [
    "A chaque instant **t**, **Xt** représente l'état caché, et **Yt** représente une observation à cet instant\n",
    "* soit **Xt** prend les valeurs dans le domaine **['state hausse', 'state baisse']** , c'est à dire bullish ou bearish au jour t\n",
    "* soit **Yt** prend les valeurs dans le domaine **[-1,0,1]**, c'est à dire c'est à dire, court en baisse, neutre, ou hausse au jour t"
   ]
  },
  {
   "cell_type": "markdown",
   "metadata": {},
   "source": [
    "* Le modèle qu’on construira ne pourrait être plus simple : on fera l’hypothèse qu’il n’existent que deux tendances : à la hausse (bullish) et à la baisse (bearish. Ces deux tendances sont les deux états “cachés” (non observables directement) de notre MMC ; \n",
    "* Les variations quotidiennes sont les observations “émises” par chaque tendance, suivant sa propre distribution de probabilité."
   ]
  },
  {
   "cell_type": "markdown",
   "metadata": {},
   "source": [
    "* On met des probabilité arbitaire au début : "
   ]
  },
  {
   "cell_type": "code",
   "execution_count": 243,
   "metadata": {},
   "outputs": [],
   "source": [
    "dist_hausse = DiscreteDistribution({'-1': 0.1 ,'0': 0.2 ,\"1\":0.7}) #bullish\n",
    "dist_baisse = DiscreteDistribution({'-1': 0.6 ,'0': 0.3,\"1\":0.1}) #bearish\n",
    "\n",
    "s_hausse = State( dist_hausse, name=\"state hausse\" ) #bullish\n",
    "s_baisse = State( dist_baisse, name=\"state baisse\" ) #bearish\n",
    "\n",
    "model = HiddenMarkovModel('first test')\n",
    "model.add_states(s_hausse, s_baisse)\n",
    "model.add_transition( model.start, s_hausse, 0.5 )\n",
    "model.add_transition( model.start, s_baisse, 0.5 )\n",
    "\n",
    "model.add_transition( s_baisse, s_hausse, 0.2 ) #bearish -> bullish\n",
    "model.add_transition( s_baisse, s_baisse, 0.8 ) #bullish -> bullish\n",
    "\n",
    "model.add_transition( s_hausse, s_baisse, 0.3 ) #bullish -> bearish\n",
    "model.add_transition( s_hausse, s_hausse, 0.7 ) #bearish -> bearish\n",
    "\n",
    "model.bake()"
   ]
  },
  {
   "cell_type": "code",
   "execution_count": 244,
   "metadata": {},
   "outputs": [
    {
     "data": {
      "text/plain": [
       "['state baisse', 'state hausse', 'first test-start', 'first test-end']"
      ]
     },
     "execution_count": 244,
     "metadata": {},
     "output_type": "execute_result"
    }
   ],
   "source": [
    "[s.name for s in model.states]"
   ]
  },
  {
   "cell_type": "code",
   "execution_count": 246,
   "metadata": {},
   "outputs": [
    {
     "name": "stdout",
     "output_type": "stream",
     "text": [
      "La matrice de transition, P(Xt|Xt-1):\n",
      "[[0.8 0.2 0.  0. ]\n",
      " [0.3 0.7 0.  0. ]\n",
      " [0.5 0.5 0.  0. ]\n",
      " [0.  0.  0.  0. ]]\n",
      "\n",
      " La probabilité de transition de Bullish à Bearish est de 30%\n"
     ]
    }
   ],
   "source": [
    "column_order = [\"state baisse\",\"state hausse\",\"first test-start\",'first test-end']  # Override the Pomegranate default order\n",
    "column_names = [s.name for s in model.states]\n",
    "order_index = [column_names.index(c) for c in column_order]# re-order the rows/columns to match the specified column order\n",
    "transitions = model.dense_transition_matrix()[:, order_index][order_index, :]\n",
    "print(\"La matrice de transition, P(Xt|Xt-1):\")\n",
    "print(transitions)\n",
    "print(\"\\n La probabilité de transition de Bullish à Bearish est de {:.0f}%\".format(100 * transitions[1, 0]))"
   ]
  },
  {
   "cell_type": "markdown",
   "metadata": {},
   "source": [
    "## 2. Créez, avec un petit script Python, une série historique de test, où vous allez simuler un marché qui alterne, sur un total di 1000 jours, 50 jours de taureau et 50 jours d’ours ; \n",
    "* lorsque le marché est bullish,\n",
    "* P (st= −1) = 0.2, P (st= 0) = 0.3, P (st= +1) = 0.5,\n",
    "* et lorsqu’il est bearish,\n",
    "* P (st= −1) = 0.5, P (st= 0) = 0.2, P (st= +1) = 0.3.\n",
    "\n"
   ]
  },
  {
   "cell_type": "code",
   "execution_count": 247,
   "metadata": {},
   "outputs": [
    {
     "name": "stdout",
     "output_type": "stream",
     "text": [
      "           -1       0      1\n",
      "bullish =  [10.0, 15.0, 25.0]\n",
      "bearish =  [25.0, 10.0, 15.0]\n"
     ]
    }
   ],
   "source": [
    "print(\"          \",-1,\"     \", 0,\"    \", 1) \n",
    "print(\"bullish = \",[0.2*50, 0.3*50, 0.5*50]) #10 fois -1, 15 fois 0, 25 fois 1\n",
    "print(\"bearish = \",[0.5*50, 0.2*50, 0.3*50]) #25 fois -1 ,10 fois 0, 15 fois 1"
   ]
  },
  {
   "cell_type": "code",
   "execution_count": 248,
   "metadata": {},
   "outputs": [
    {
     "name": "stdout",
     "output_type": "stream",
     "text": [
      "[-1, 1, 1, 1, 0, 1, -1, -1, 0, 1, 1, 1, 0, -1, 0, 1, 1, 1, 1, 1, 1, -1, 0, 0, 1, -1, 1, 0, 1, -1, 1, -1, 1, 0, 0, 0, 0, 1, 1, 1, -1, 0, 1, 0, 1, 0, 1, -1, 1, 0]\n",
      " 1    25\n",
      " 0    15\n",
      "-1    10\n",
      "dtype: int64\n",
      "[0, 0, 1, -1, 0, 1, -1, 0, -1, -1, 1, 1, -1, 1, -1, 0, -1, 1, -1, 1, -1, 1, -1, -1, 1, -1, 0, 1, -1, -1, -1, -1, 1, 1, 0, -1, -1, 0, -1, -1, 0, -1, 1, 1, -1, 0, 1, -1, -1, -1]\n",
      "-1    25\n",
      " 1    15\n",
      " 0    10\n",
      "dtype: int64\n"
     ]
    }
   ],
   "source": [
    "import random\n",
    "\n",
    "bullish = [] \n",
    "for x in range(0, 10):\n",
    "    bullish.append(-1) \n",
    "\n",
    "for x in range(0, 15):\n",
    "    bullish.append(0) \n",
    "\n",
    "for x in range(0, 25):\n",
    "    bullish.append(1) \n",
    "\n",
    "random.shuffle(bullish)\n",
    "\n",
    "\n",
    "bearish = [] \n",
    "for x in range(0, 25):\n",
    "    bearish.append(-1) \n",
    "\n",
    "for x in range(0, 10):\n",
    "    bearish.append(0) \n",
    "\n",
    "for x in range(0, 15):\n",
    "    bearish.append(1) \n",
    "\n",
    "random.shuffle(bearish)\n",
    "\n",
    "print(bullish)\n",
    "ps = pd.Series(i for i in bullish)\n",
    "counts = ps.value_counts()\n",
    "print(counts)\n",
    "\n",
    "print(bearish)\n",
    "ps2 = pd.Series(i for i in bearish)\n",
    "counts2 = ps2.value_counts()\n",
    "print(counts2)"
   ]
  },
  {
   "cell_type": "code",
   "execution_count": 249,
   "metadata": {},
   "outputs": [
    {
     "name": "stdout",
     "output_type": "stream",
     "text": [
      "1000\n"
     ]
    }
   ],
   "source": [
    "test_serie = []\n",
    "state_serie = []\n",
    "for i in range(0,10):\n",
    "    for num in bullish: \n",
    "        test_serie.append(str(num))\n",
    "        state_serie.append('state hausse')\n",
    "    for num in bearish: \n",
    "        test_serie.append(str(num))\n",
    "        state_serie.append('state baisse')\n",
    "\n",
    "\n",
    "print(len(test_serie) )\n"
   ]
  },
  {
   "cell_type": "markdown",
   "metadata": {},
   "source": [
    "### 3. Entraînez le MMC (méthode fit) avec cette série de test. \n",
    "* Une fois entraîné, le MMC devrait reconnaître (méthode viterbi) les deux tendances, au fur et à mesure qu’elles s’alternent\n",
    "* Vérifiez aussi que les probabilités d’émission des deux états reflètent bien les paramètres que vous avez utilisé pour produire la série de test"
   ]
  },
  {
   "cell_type": "markdown",
   "metadata": {},
   "source": [
    "### Valeur par jour et Etat réel par jour de ma série "
   ]
  },
  {
   "cell_type": "code",
   "execution_count": 250,
   "metadata": {},
   "outputs": [
    {
     "name": "stdout",
     "output_type": "stream",
     "text": [
      "['-1', '1', '1', '1', '0', '1', '-1', '-1', '0', '1', '1', '1', '0', '-1', '0', '1', '1', '1', '1', '1', '1', '-1', '0', '0', '1', '-1', '1', '0', '1', '-1', '1', '-1', '1', '0', '0', '0', '0', '1', '1', '1', '-1', '0', '1', '0', '1', '0', '1', '-1', '1', '0', '0', '0', '1', '-1', '0', '1', '-1', '0', '-1', '-1']\n",
      "['state hausse', 'state hausse', 'state hausse', 'state hausse', 'state hausse', 'state hausse', 'state hausse', 'state hausse', 'state hausse', 'state hausse', 'state hausse', 'state hausse', 'state hausse', 'state hausse', 'state hausse', 'state hausse', 'state hausse', 'state hausse', 'state hausse', 'state hausse', 'state hausse', 'state hausse', 'state hausse', 'state hausse', 'state hausse', 'state hausse', 'state hausse', 'state hausse', 'state hausse', 'state hausse', 'state hausse', 'state hausse', 'state hausse', 'state hausse', 'state hausse', 'state hausse', 'state hausse', 'state hausse', 'state hausse', 'state hausse', 'state hausse', 'state hausse', 'state hausse', 'state hausse', 'state hausse', 'state hausse', 'state hausse', 'state hausse', 'state hausse', 'state hausse', 'state baisse', 'state baisse', 'state baisse', 'state baisse', 'state baisse', 'state baisse', 'state baisse', 'state baisse', 'state baisse', 'state baisse']\n"
     ]
    }
   ],
   "source": [
    "print(test_serie[0:60])\n",
    "print(state_serie[0:60])"
   ]
  },
  {
   "cell_type": "markdown",
   "metadata": {},
   "source": [
    "### Etat réel prédit par jour"
   ]
  },
  {
   "cell_type": "code",
   "execution_count": null,
   "metadata": {},
   "outputs": [],
   "source": [
    "#print(\", \".join(state.name for i, state in model.viterbi(test_serie)[1]))"
   ]
  },
  {
   "cell_type": "code",
   "execution_count": 251,
   "metadata": {},
   "outputs": [
    {
     "name": "stdout",
     "output_type": "stream",
     "text": [
      "Le taux de bonne prédiction pour les états de bullish ou bearish est de :  37.0 %\n"
     ]
    }
   ],
   "source": [
    "import sklearn\n",
    "positive = 0\n",
    "\n",
    "for i, state in model.viterbi(test_serie)[1] :\n",
    "    if state.name == state_serie[i]:\n",
    "        positive +=1\n",
    "\n",
    "taux_de_reussite = positive/len(test_serie)*100\n",
    "print(\"Le taux de bonne prédiction pour les états de bullish ou bearish est de : \", taux_de_reussite,\"%\")\n"
   ]
  },
  {
   "cell_type": "markdown",
   "metadata": {},
   "source": [
    "* On lance une première prédiction arbitraire avec nos proba choisies au départ "
   ]
  },
  {
   "cell_type": "markdown",
   "metadata": {},
   "source": [
    "# fit\n",
    "* On lance la méthode .fit() sur notre model à partir de l'ensemble de test généré auparavant "
   ]
  },
  {
   "cell_type": "code",
   "execution_count": null,
   "metadata": {},
   "outputs": [],
   "source": [
    "import numpy as np\n",
    "test_s = [np.array( list(map(str, test_serie)) )]\n",
    "model.fit(test_s, verbose=True)"
   ]
  },
  {
   "cell_type": "markdown",
   "metadata": {},
   "source": [
    "* On relance la prédiction et on observe qu'on a de meilleurs résultats"
   ]
  },
  {
   "cell_type": "code",
   "execution_count": 271,
   "metadata": {},
   "outputs": [
    {
     "name": "stdout",
     "output_type": "stream",
     "text": [
      "Le taux de bonne prédiction est de :  49.0 %\n"
     ]
    }
   ],
   "source": [
    "import sklearn\n",
    "positive = 0\n",
    "\n",
    "for i, state in model.viterbi(test_serie)[1] :\n",
    "    if state.name == state_serie[i]:\n",
    "        positive +=1\n",
    "\n",
    "taux_de_reussite = positive/len(test_serie)*100\n",
    "print(\"Le taux de bonne prédiction est de : \", taux_de_reussite,\"%\")\n"
   ]
  },
  {
   "cell_type": "markdown",
   "metadata": {},
   "source": [
    "* Pour rappel, la distribution choisies initialement (discrète) :\n",
    "- ({'-1': 0.6 ,'0': 0.3,\"1\":0.1}) -> baisse = bearish\n",
    "- ({'-1': 0.1 ,'0': 0.2 ,\"1\":0.7}) -> hausse = bullish\n",
    "\n",
    "* On note que ces probabilité ont changé pour se rapprocher de celles recherchées : \n",
    "- ({'−1': 0.5, '0': 0.2, '1': 0.3}) -> baisse = bearish\n",
    "- ({'−1': 0.2, '0': 0.3, '1': 0.5}) -> hausse = bullish\n"
   ]
  },
  {
   "cell_type": "code",
   "execution_count": 270,
   "metadata": {},
   "outputs": [
    {
     "name": "stdout",
     "output_type": "stream",
     "text": [
      "state baisse\n",
      "[{'-1': 0.43888891230357047, '0': 0.3271704475541853, '1': 0.23394064014224414}]\n",
      "state hausse\n",
      "[{'-1': 0.2553290688982378, '0': 0.1678097927608857, '1': 0.5768611383408764}]\n"
     ]
    }
   ],
   "source": [
    "for s in model.states[0:2]:\n",
    "    print(s.name)\n",
    "    print(s.distribution.parameters)"
   ]
  },
  {
   "cell_type": "markdown",
   "metadata": {},
   "source": [
    "* On a donc bien un algorithme qui se rapproche des valeurs souhaités, les deux états semblent bien représentés : \n",
    "- state baisse : \n",
    "    * -1 : 0.44 --> 0.5\n",
    "    *  0 : 0.33 --> 0.2\n",
    "    *  1 : 0.23 --> 0.3\n",
    "- state hausse :\n",
    "    * -1 : 0.26 --> 0.2\n",
    "    *  0 : 0.17 --> 0.3\n",
    "    *  1 : 0.58 --> 0.5"
   ]
  },
  {
   "cell_type": "markdown",
   "metadata": {},
   "source": [
    "### Recherche plus en profondeur \n"
   ]
  },
  {
   "cell_type": "code",
   "execution_count": null,
   "metadata": {},
   "outputs": [],
   "source": [
    "import sklearn\n",
    "positive = 0\n",
    "\n",
    "for i, state in model.viterbi(test_serie)[1] :\n",
    "    print(state.name, state_serie[i])\n",
    "    if state.name == state_serie[i]:\n",
    "        positive +=1\n",
    "\n",
    "taux_de_reussite = positive/len(test_serie)*100\n",
    "print(\"Le taux de bonne prédiction est de : \", taux_de_reussite,\"%\")"
   ]
  },
  {
   "cell_type": "markdown",
   "metadata": {},
   "source": [
    "L'algorithme semble presque toujours alterner hausse et baisse chaque jour"
   ]
  },
  {
   "cell_type": "markdown",
   "metadata": {},
   "source": [
    "* On voit que la matrice de transition a des valeurs différentes qu'auparavant et elle confirme cette hypothese\n",
    "* Lorqu'on est en hausse on a de grande chance de baisser\n",
    "* Lorqu'on est en baisse on a de grande chance de monter\n",
    "\n",
    "(j'ai un peu du mal à interpréter ces résultats, car du coup on a une mauvaise représentation des périodes qui s'alternent, on a pas la notion des 50jours de bearish suivi des 50 de bullish, donc je me demande comment on pourrait faire pour ce model le prenne en compte. Car là, il alterne bearish et bullish mais chaque jour et pas tout les 50)"
   ]
  },
  {
   "cell_type": "code",
   "execution_count": 277,
   "metadata": {},
   "outputs": [
    {
     "name": "stdout",
     "output_type": "stream",
     "text": [
      "La matrice de transition, P(Xt|Xt-1):\n",
      "[[0.09134949 0.90865051 0.         0.        ]\n",
      " [0.9663151  0.0336849  0.         0.        ]\n",
      " [1.         0.         0.         0.        ]\n",
      " [0.         0.         0.         0.        ]]\n",
      "\n",
      " La probabilité de transition de Bullish à Bearish est de 97%\n",
      "\n",
      " La probabilité de transition de Bearish à Bullish est de 91%\n"
     ]
    }
   ],
   "source": [
    "column_order = [\"state baisse\",\"state hausse\",\"first test-start\",'first test-end']  # Override the Pomegranate default order\n",
    "column_names = [s.name for s in model.states]\n",
    "order_index = [column_names.index(c) for c in column_order]# re-order the rows/columns to match the specified column order\n",
    "transitions = model.dense_transition_matrix()[:, order_index][order_index, :]\n",
    "print(\"La matrice de transition, P(Xt|Xt-1):\")\n",
    "print(transitions)\n",
    "print(\"\\n La probabilité de transition de Bullish à Bearish est de {:.0f}%\".format(100 * transitions[1, 0]))\n",
    "print(\"\\n La probabilité de transition de Bearish à Bullish est de {:.0f}%\".format(100 * transitions[0, 1]))"
   ]
  },
  {
   "cell_type": "markdown",
   "metadata": {},
   "source": [
    "### 4. Maintenant, appliquez le MMC aux séries réelles (celles que vous avez obtenues lors du TD n◦1). Cela veut dire entraîner le MMC avec une série, puis lui faire reconnaître les tendances sur la même série"
   ]
  },
  {
   "cell_type": "code",
   "execution_count": 278,
   "metadata": {},
   "outputs": [
    {
     "name": "stdout",
     "output_type": "stream",
     "text": [
      "---- DAX ----- \n",
      "    Jour         Close  Score\n",
      "0     1  13906.669922      0\n",
      "1     2  13873.969727      0\n",
      "2     3  13643.950195     -1\n",
      "---- CAC40 ----- \n",
      "    Jour        Close  Score\n",
      "0     1  5590.790039      0\n",
      "1     2  5559.569824     -1\n",
      "2     3  5472.359863     -1\n",
      "---- IXIC ----- \n",
      "    Jour         Close  Score\n",
      "0     1  13530.910156      0\n",
      "1     2  13543.059570      0\n",
      "2     3  13635.990234      1\n",
      "---- DJI ----- \n",
      "    Jour     Close  Score\n",
      "0     1  31176.01      0\n",
      "1     2  30996.98     -1\n",
      "2     3  30960.00      0\n",
      "---- FTSE ----- \n",
      "    Jour    Close  Score\n",
      "0     1  6715.42      0\n",
      "1     2  6695.07      0\n",
      "2     3  6638.85     -1\n"
     ]
    }
   ],
   "source": [
    "print( \"---- DAX ----- \\n\",DAX.head(3))\n",
    "print(\"---- CAC40 ----- \\n\",CAC40.head(3))\n",
    "print(\"---- IXIC ----- \\n\",IXIC.head(3))\n",
    "print(\"---- DJI ----- \\n\",DJI.head(3))\n",
    "print(\"---- FTSE ----- \\n\",FTSE.head(3))"
   ]
  },
  {
   "cell_type": "markdown",
   "metadata": {},
   "source": [
    "#### Modele initial"
   ]
  },
  {
   "cell_type": "code",
   "execution_count": 315,
   "metadata": {},
   "outputs": [],
   "source": [
    "dist_hausse = DiscreteDistribution({'-1': 0.2 ,'0': 0.3 ,\"1\":0.5}) #bullish\n",
    "dist_baisse = DiscreteDistribution({'-1': 0.5 ,'0': 0.2,\"1\":0.3}) #bearish\n",
    "\n",
    "s_hausse = State( dist_hausse, name=\"state hausse\" ) #bullish\n",
    "s_baisse = State( dist_baisse, name=\"state baisse\" ) #bearish\n",
    "\n",
    "model = HiddenMarkovModel('first test')\n",
    "model.add_states(s_hausse, s_baisse)\n",
    "model.add_transition( model.start, s_hausse, 0.5 )\n",
    "model.add_transition( model.start, s_baisse, 0.5 )\n",
    "\n",
    "model.add_transition( s_baisse, s_hausse, 0.2 ) #bearish -> bullish\n",
    "model.add_transition( s_baisse, s_baisse, 0.8 ) #bullish -> bullish\n",
    "\n",
    "model.add_transition( s_hausse, s_baisse, 0.3 ) #bullish -> bearish\n",
    "model.add_transition( s_hausse, s_hausse, 0.7 ) #bearish -> bearish\n",
    "\n",
    "model.bake()"
   ]
  },
  {
   "cell_type": "code",
   "execution_count": 297,
   "metadata": {},
   "outputs": [],
   "source": [
    "test_s = [np.array( list(map(str, CAC40['Score'])) )]\n",
    "CAC_model = model.fit(test_s)"
   ]
  },
  {
   "cell_type": "code",
   "execution_count": 298,
   "metadata": {},
   "outputs": [
    {
     "name": "stdout",
     "output_type": "stream",
     "text": [
      "state baisse\n",
      "[{'-1': 0.34056747828039446, '0': 0.28477837681391366, '1': 0.37465414490569193}]\n",
      "state hausse\n",
      "[{'-1': 0.13007047343449102, '0': 0.5924486818935579, '1': 0.27748084467195105}]\n"
     ]
    }
   ],
   "source": [
    "for s in CAC_model.states[0:2]:\n",
    "    print(s.name)\n",
    "    print(s.distribution.parameters)"
   ]
  },
  {
   "cell_type": "code",
   "execution_count": null,
   "metadata": {},
   "outputs": [],
   "source": [
    "test_s = [np.array( list(map(str, DAX['Score'])) )]\n",
    "DAX_model = model.fit(test_s)"
   ]
  },
  {
   "cell_type": "code",
   "execution_count": 301,
   "metadata": {},
   "outputs": [
    {
     "name": "stdout",
     "output_type": "stream",
     "text": [
      "state baisse\n",
      "[{'-1': 0.41195308260134095, '0': 0.13248937674716443, '1': 0.4555575406514946}]\n",
      "state hausse\n",
      "[{'-1': 0.11050894519080467, '0': 0.7366248800590423, '1': 0.15286617475015318}]\n"
     ]
    }
   ],
   "source": [
    "for s in DAX_model.states[0:2]:\n",
    "    print(s.name)\n",
    "    print(s.distribution.parameters)"
   ]
  },
  {
   "cell_type": "code",
   "execution_count": 307,
   "metadata": {},
   "outputs": [],
   "source": [
    "test_s = [np.array( list(map(str, IXIC['Score'])) )]\n",
    "IXIC_model = model.fit(test_s)"
   ]
  },
  {
   "cell_type": "code",
   "execution_count": 308,
   "metadata": {},
   "outputs": [
    {
     "name": "stdout",
     "output_type": "stream",
     "text": [
      "state baisse\n",
      "[{'-1': 0.4396963767158781, '0': 0.1968494067422143, '1': 0.36345421654190757}]\n",
      "state hausse\n",
      "[{'-1': 0.2086438150033617, '0': 0.4549978233133221, '1': 0.33635836168331623}]\n"
     ]
    }
   ],
   "source": [
    "for s in IXIC_model.states[0:2]:\n",
    "    print(s.name)\n",
    "    print(s.distribution.parameters)"
   ]
  },
  {
   "cell_type": "code",
   "execution_count": 313,
   "metadata": {},
   "outputs": [],
   "source": [
    "test_s = [np.array( list(map(str, DJI['Score'])) )]\n",
    "DJI_model = model.fit(test_s)"
   ]
  },
  {
   "cell_type": "code",
   "execution_count": 314,
   "metadata": {},
   "outputs": [
    {
     "name": "stdout",
     "output_type": "stream",
     "text": [
      "state baisse\n",
      "[{'-1': 0.5448390417395277, '0': 1.0637298636417324e-07, '1': 0.45516085188748595}]\n",
      "state hausse\n",
      "[{'-1': 4.9942237827771015e-06, '0': 0.812603309236952, '1': 0.18739169653926524}]\n"
     ]
    }
   ],
   "source": [
    "for s in DJI_model.states[0:2]:\n",
    "    print(s.name)\n",
    "    print(s.distribution.parameters)"
   ]
  },
  {
   "cell_type": "code",
   "execution_count": null,
   "metadata": {},
   "outputs": [],
   "source": [
    "test_s = [np.array( list(map(str, FTSE['Score'])) )]\n",
    "FTSE_model = model.fit(test_s)"
   ]
  },
  {
   "cell_type": "code",
   "execution_count": 317,
   "metadata": {},
   "outputs": [
    {
     "name": "stdout",
     "output_type": "stream",
     "text": [
      "state baisse\n",
      "[{'-1': 0.2877825668770154, '0': 0.3352255970014446, '1': 0.37699183612154}]\n",
      "state hausse\n",
      "[{'-1': 8.62971542925609e-11, '0': 0.9389039992061563, '1': 0.061096000707546616}]\n"
     ]
    }
   ],
   "source": [
    "for s in FTSE_model.states[0:2]:\n",
    "    print(s.name)\n",
    "    print(s.distribution.parameters)"
   ]
  }
 ],
 "metadata": {
  "interpreter": {
   "hash": "636cdaddf8278713ac0f8899dff8f68cf32cd8ae3d3514f61665594349bacd03"
  },
  "kernelspec": {
   "display_name": "Python 3.8.5 ('base')",
   "language": "python",
   "name": "python3"
  },
  "language_info": {
   "codemirror_mode": {
    "name": "ipython",
    "version": 3
   },
   "file_extension": ".py",
   "mimetype": "text/x-python",
   "name": "python",
   "nbconvert_exporter": "python",
   "pygments_lexer": "ipython3",
   "version": "3.8.5"
  },
  "orig_nbformat": 4
 },
 "nbformat": 4,
 "nbformat_minor": 2
}
