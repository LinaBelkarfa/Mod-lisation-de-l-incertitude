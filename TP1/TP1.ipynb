{
 "cells": [
  {
   "cell_type": "markdown",
   "metadata": {},
   "source": [
    "# TD1 : PROBABILITES\n",
    "\n",
    "On va calculer, en utilisant le langage Python, des probabilités simples, conjointes et\n",
    "conditionnelles. On basera ces calculs sur des données réelles issues des marchés financiers\n",
    "\n",
    "* On ne pourrait pas penser à quelque chose de plus incertain que les marchés financiers. C’est la raison pour laquelle on va étudier les mouvements relatifs d’un certain nombre d’indices de ces marchés, notamment :\n",
    "    - CAC 40 (ˆFCHI), l’indice de la Bourse de Paris ;\n",
    "    - DAX 30 (ˆGDAXI), l’indice de la Bourse de Francfort ;\n",
    "    - FTSE 100 (ˆFTSE), l’indice de la Bourse de Londres ;\n",
    "    - Dow Jones Industrial Average (ˆDJI), l’indice de la bourse de New York ;\n",
    "    - NASDAQ Composite (ˆIXIC), l’indice du marché des actions des sociétés hi-tech.\n",
    "\n",
    "Les codes entre parenthèses sont appelés tickers et permettent de consulter la valeur de ces indices auprès des fournisseurs de données financières.\n",
    "\n",
    "## 1 et 2 - Télécharger les données et garder que Adj Close"
   ]
  },
  {
   "cell_type": "code",
   "execution_count": 1,
   "metadata": {},
   "outputs": [
    {
     "name": "stdout",
     "output_type": "stream",
     "text": [
      "   Jour        Close\n",
      "0     1  5590.790039\n",
      "1     2  5559.569824\n",
      "2     3  5472.359863\n",
      "3     4  5523.520020\n",
      "4     5  5459.620117\n",
      "   Jour         Close\n",
      "0     1  13906.669922\n",
      "1     2  13873.969727\n",
      "2     3  13643.950195\n",
      "3     4  13870.990234\n",
      "4     5  13620.459961\n",
      "   Jour    Close\n",
      "0     1  6715.42\n",
      "1     2  6695.07\n",
      "2     3  6638.85\n",
      "3     4  6654.01\n",
      "4     5  6567.37\n",
      "   Jour     Close\n",
      "0     1  31176.01\n",
      "1     2  30996.98\n",
      "2     3  30960.00\n",
      "3     4  30937.04\n",
      "4     5  30303.17\n",
      "   Jour        Close\n",
      "0     1  5590.790039\n",
      "1     2  5559.569824\n",
      "2     3  5472.359863\n",
      "3     4  5523.520020\n",
      "4     5  5459.620117\n"
     ]
    }
   ],
   "source": [
    "import pandas as pd\n",
    "\n",
    "CAC40 = pd.read_csv('CAC40.csv')\n",
    "CAC40 = CAC40.loc[:,['Close']]\n",
    "CAC40.insert(0,'Jour',[i for i in range(1, len(CAC40)+1)])\n",
    "print(CAC40.head(5))\n",
    "\n",
    "DAX = pd.read_csv('DAX30.csv')\n",
    "DAX = DAX.loc[:,['Close']]\n",
    "DAX.insert(0,'Jour',[i for i in range(1, len(DAX)+1)])\n",
    "\n",
    "print(DAX.head(5))\n",
    "\n",
    "FTSE = pd.read_csv('FTSE.csv', sep=\";\")\n",
    "print(FTSE.head(5))\n",
    "\n",
    "DJI = pd.read_csv('DJI.csv', sep=\";\")\n",
    "print(DJI.head(5))\n",
    "\n",
    "IXIC = pd.read_csv('NASDAQ.csv')\n",
    "IXIC = CAC40.loc[:,['Close']]\n",
    "IXIC.insert(0,'Jour',[i for i in range(1, len(IXIC)+1)])\n",
    "\n",
    "print(IXIC.head(5))\n",
    "\n",
    "\n"
   ]
  },
  {
   "cell_type": "markdown",
   "metadata": {},
   "source": [
    "## 3 - Calcul de la série st"
   ]
  },
  {
   "cell_type": "code",
   "execution_count": 2,
   "metadata": {},
   "outputs": [],
   "source": [
    "import numpy as np\n",
    "\n",
    "def score_function(DATAFRAME):\n",
    "    score = [0]\n",
    "    for i in range(1,len(DATAFRAME)):\n",
    "        taux = np.log(DATAFRAME['Close'][i]/DATAFRAME['Close'][i-1])\n",
    "        if taux > 0.005:\n",
    "            score.append(1)\n",
    "        if taux <= 0.005 and taux >=-0.005 :\n",
    "            score.append(0)\n",
    "        if taux < -0.005:\n",
    "            score.append(-1)\n",
    "    DATAFRAME.insert(1,'Score', score)\n"
   ]
  },
  {
   "cell_type": "code",
   "execution_count": 3,
   "metadata": {},
   "outputs": [],
   "source": [
    "score_function(DAX)\n",
    "score_function(CAC40)\n",
    "score_function(IXIC)\n",
    "score_function(DJI)\n",
    "score_function(FTSE)"
   ]
  },
  {
   "cell_type": "code",
   "execution_count": 4,
   "metadata": {},
   "outputs": [
    {
     "name": "stdout",
     "output_type": "stream",
     "text": [
      "   Jour  Score         Close\n",
      "0     1      0  13906.669922\n",
      "1     2      0  13873.969727\n",
      "2     3     -1  13643.950195\n",
      "3     4      1  13870.990234\n",
      "4     5     -1  13620.459961\n",
      "   Jour  Score        Close\n",
      "0     1      0  5590.790039\n",
      "1     2     -1  5559.569824\n",
      "2     3     -1  5472.359863\n",
      "3     4      1  5523.520020\n",
      "4     5     -1  5459.620117\n",
      "   Jour  Score        Close\n",
      "0     1      0  5590.790039\n",
      "1     2     -1  5559.569824\n",
      "2     3     -1  5472.359863\n",
      "3     4      1  5523.520020\n",
      "4     5     -1  5459.620117\n",
      "   Jour  Score     Close\n",
      "0     1      0  31176.01\n",
      "1     2     -1  30996.98\n",
      "2     3      0  30960.00\n",
      "3     4      0  30937.04\n",
      "4     5     -1  30303.17\n",
      "   Jour  Score    Close\n",
      "0     1      0  6715.42\n",
      "1     2      0  6695.07\n",
      "2     3     -1  6638.85\n",
      "3     4      0  6654.01\n",
      "4     5     -1  6567.37\n"
     ]
    }
   ],
   "source": [
    "print(DAX.head(5))\n",
    "print(CAC40.head(5))\n",
    "print(IXIC.head(5))\n",
    "print(DJI.head(5))\n",
    "print(FTSE.head(5))\n",
    "\n"
   ]
  },
  {
   "cell_type": "markdown",
   "metadata": {},
   "source": [
    "## Table de probabilité"
   ]
  },
  {
   "cell_type": "code",
   "execution_count": 32,
   "metadata": {},
   "outputs": [
    {
     "name": "stdout",
     "output_type": "stream",
     "text": [
      "----- Table de probabilité pour le dataframe DAX ------ \n",
      " 0    0.521401\n",
      " 1    0.260700\n",
      "-1    0.217899\n",
      "Name: Score, dtype: float64\n",
      "----- Table de probabilité pour le dataframe CAC40 ------ \n",
      " 0    0.484615\n",
      " 1    0.311538\n",
      "-1    0.203846\n",
      "Name: Score, dtype: float64\n",
      "----- Table de probabilité pour le dataframe FTSE ------ \n",
      " 0    0.579767\n",
      " 1    0.249027\n",
      "-1    0.171206\n",
      "Name: Score, dtype: float64\n",
      "----- Table de probabilité pour le dataframe DJI ------ \n",
      " 0    0.529644\n",
      " 1    0.280632\n",
      "-1    0.189723\n",
      "Name: Score, dtype: float64\n",
      "----- Table de probabilité pour le dataframe IXIC ------ \n",
      " 0    0.484615\n",
      " 1    0.311538\n",
      "-1    0.203846\n",
      "Name: Score, dtype: float64\n"
     ]
    }
   ],
   "source": [
    "print(\"----- Table de probabilité pour le dataframe DAX ------ \")\n",
    "table_DAX= DAX['Score'].value_counts()/sum(DAX['Score'].value_counts())\n",
    "print(table_DAX)\n",
    "\n",
    "print(\"----- Table de probabilité pour le dataframe CAC40 ------ \")\n",
    "table_CAC40= CAC40['Score'].value_counts()/sum(CAC40['Score'].value_counts())\n",
    "print(table_CAC40)\n",
    "\n",
    "print(\"----- Table de probabilité pour le dataframe FTSE ------ \")\n",
    "table_FTSE=FTSE['Score'].value_counts()/sum(FTSE['Score'].value_counts())\n",
    "print(table_FTSE)\n",
    "\n",
    "print(\"----- Table de probabilité pour le dataframe DJI ------ \")\n",
    "table_DJI=DJI['Score'].value_counts()/sum(DJI['Score'].value_counts())\n",
    "print(table_DJI)\n",
    "\n",
    "print(\"----- Table de probabilité pour le dataframe IXIC ------ \")\n",
    "table_IXIC= IXIC['Score'].value_counts()/sum(IXIC['Score'].value_counts())\n",
    "print(table_IXIC)\n",
    "\n"
   ]
  },
  {
   "cell_type": "markdown",
   "metadata": {},
   "source": [
    "## 5. Calculez, pour chaque indice :\n",
    "* **P(st, st+1) = proba d'avoir st et st+1** :\n",
    "* P(0,0),P(0,1),P(0,-1)\n",
    "* P(1,0),P(1,1), P(1,-1)\n",
    "* (P-1,0), P(-1,1), P(-1,-1)\n",
    "\n",
    "* **P(st|st-1)** : \n",
    "* Proba d'avoir 0 aujour'dhui \n",
    "    * sachant qu'on a eu 0 la veille\n",
    "    * sachant qu'on a eu 1 la veille\n",
    "    * sachant qu'on a eu -1 la veille\n",
    "* Proba d'avoir 1 aujour'dhui \n",
    "    * sachant qu'on a eu 0 la veille\n",
    "    * sachant qu'on a eu 1 la veille\n",
    "    * sachant qu'on a eu -1 la veille\n",
    "* Proba d'avoir -1 aujour'dhui \n",
    "    * sachant qu'on a eu 0 la veille\n",
    "    * sachant qu'on a eu 1 la veille\n",
    "    * sachant qu'on a eu -1 la veille\n",
    "\n",
    "* **P(st+1|st)**:\n",
    "* Proba d'avoir 0 demain \n",
    "    * sachant qu'on a eu 0 la aujour'dhui\n",
    "    * sachant qu'on a eu 1 la aujour'dhui\n",
    "    * sachant qu'on a eu -1 la aujour'dhui\n",
    "* Proba d'avoir 1 demain \n",
    "    * sachant qu'on a eu 0 la aujour'dhui\n",
    "    * sachant qu'on a eu 1 la aujour'dhui\n",
    "    * sachant qu'on a eu -1 la aujour'dhui\n",
    "* Proba d'avoir -1 demain \n",
    "    * sachant qu'on a eu 0 la aujour'dhui\n",
    "    * sachant qu'on a eu 1 la aujour'dhui\n",
    "    * sachant qu'on a eu -1 la aujour'dhui\n",
    "\n",
    "\n"
   ]
  },
  {
   "cell_type": "markdown",
   "metadata": {},
   "source": [
    "* p(1|0) -> p(0,1) / (p(0,0)+p(0,1)+p(0,-1))\n",
    "* P(st ∣ st+1) = P(st ∩ st+1)/P(st+1)\n",
    "* P(st ∩ st+1) = P(st,st+1)"
   ]
  },
  {
   "cell_type": "code",
   "execution_count": 86,
   "metadata": {},
   "outputs": [
    {
     "name": "stdout",
     "output_type": "stream",
     "text": [
      "------------ Pr(ST, ST+1) ---------------\n",
      "     0   1  -1\n",
      "0   66  30  30\n",
      "1   43  22  16\n",
      "-1  16  29   7\n",
      "           0         1        -1\n",
      "0   0.254826   0.11583   0.11583\n",
      "1   0.166023  0.084942  0.061776\n",
      "-1  0.061776  0.111969  0.027027\n",
      "------------ Pr(ST | ST+1) pareil que Pr(ST-1, ST) ---------------\n",
      "        0         1        -1\n",
      "0   0.528   0.37037  0.566038\n",
      "1   0.344  0.271605  0.301887\n",
      "-1  0.128  0.358025  0.132075\n"
     ]
    },
    {
     "data": {
      "text/plain": [
       "0     125\n",
       "1      81\n",
       "-1     53\n",
       "dtype: object"
      ]
     },
     "execution_count": 86,
     "metadata": {},
     "output_type": "execute_result"
    }
   ],
   "source": [
    "liste = []\n",
    "\n",
    "def Proba(DATAFRAME):\n",
    "    \n",
    "    for i in range(0,len(DATAFRAME['Score'])-1):\n",
    "        Test = DATAFRAME['Score'][i],DATAFRAME['Score'][i+1]\n",
    "        TestS = str(Test)\n",
    "        liste.append(TestS)\n",
    "\n",
    "Proba(IXIC)\n",
    "\n",
    "print(\"------------ Pr(ST, ST+1) ---------------\")\n",
    "\n",
    "df = pd.DataFrame(columns=['0','1','-1'])\n",
    "lign1 = pd.DataFrame(\n",
    "    data=np.array([[liste.count('(0, 0)'),\n",
    "    liste.count('(0, 1)'),\n",
    "    liste.count('(0, -1)')]]),\n",
    "    columns=['0','1','-1'])\n",
    "lign2 = pd.DataFrame(\n",
    "    data=np.array([[liste.count('(1, 0)'),\n",
    "    liste.count('(1, 1)'),\n",
    "    liste.count('(1, -1)')]]),\n",
    "    columns=['0','1','-1'])\n",
    "lign3 = pd.DataFrame(\n",
    "    data=np.array([[liste.count('(-1, 0)'),\n",
    "    liste.count('(-1, 1)'),\n",
    "    liste.count('(-1, -1)')]]),\n",
    "    columns=['0','1','-1'])\n",
    "df = pd.concat([df,lign1], ignore_index=True)\n",
    "df = pd.concat([df,lign2], ignore_index=True)\n",
    "df = pd.concat([df,lign3], ignore_index=True)\n",
    "df=df.rename(index={2: '-1'}) \n",
    "print(df)\n",
    "print(df/sum(df.sum()))\n",
    "\n",
    "print(\"------------ Pr(ST | ST+1) pareil que Pr(ST-1, ST) ---------------\")\n",
    "print(df/df.sum())\n",
    "\n"
   ]
  },
  {
   "cell_type": "code",
   "execution_count": 76,
   "metadata": {},
   "outputs": [
    {
     "data": {
      "text/plain": [
       "259"
      ]
     },
     "execution_count": 76,
     "metadata": {},
     "output_type": "execute_result"
    }
   ],
   "source": []
  },
  {
   "cell_type": "code",
   "execution_count": null,
   "metadata": {},
   "outputs": [],
   "source": []
  }
 ],
 "metadata": {
  "interpreter": {
   "hash": "636cdaddf8278713ac0f8899dff8f68cf32cd8ae3d3514f61665594349bacd03"
  },
  "kernelspec": {
   "display_name": "Python 3.8.5 64-bit ('base': conda)",
   "language": "python",
   "name": "python3"
  },
  "language_info": {
   "codemirror_mode": {
    "name": "ipython",
    "version": 3
   },
   "file_extension": ".py",
   "mimetype": "text/x-python",
   "name": "python",
   "nbconvert_exporter": "python",
   "pygments_lexer": "ipython3",
   "version": "3.8.5"
  },
  "orig_nbformat": 4
 },
 "nbformat": 4,
 "nbformat_minor": 2
}
